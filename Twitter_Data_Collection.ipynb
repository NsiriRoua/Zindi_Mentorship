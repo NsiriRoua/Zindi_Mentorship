{
  "nbformat": 4,
  "nbformat_minor": 0,
  "metadata": {
    "colab": {
      "name": "Twitter_Data_Collection.ipynb",
      "provenance": [],
      "mount_file_id": "1rfRGG0eLr89OwKaXtUbud0liEp0PQlWE",
      "authorship_tag": "ABX9TyPxnV8M4xeuAwM7kGGvumRB",
      "include_colab_link": true
    },
    "kernelspec": {
      "name": "python3",
      "display_name": "Python 3"
    },
    "language_info": {
      "name": "python"
    }
  },
  "cells": [
    {
      "cell_type": "markdown",
      "metadata": {
        "id": "view-in-github",
        "colab_type": "text"
      },
      "source": [
        "<a href=\"https://colab.research.google.com/github/NsiriRoua/Zindi_Mentorship/blob/main/Twitter_Data_Collection.ipynb\" target=\"_parent\"><img src=\"https://colab.research.google.com/assets/colab-badge.svg\" alt=\"Open In Colab\"/></a>"
      ]
    },
    {
      "cell_type": "markdown",
      "metadata": {
        "id": "F9JPidx2yBNd"
      },
      "source": [
        "# **PYTHON PACKAGES INSTALLATION**"
      ]
    },
    {
      "cell_type": "code",
      "metadata": {
        "colab": {
          "base_uri": "https://localhost:8080/"
        },
        "id": "HGbq5FeVx4Jc",
        "outputId": "60d5e812-24bb-4adc-85a4-2a0380457a8c"
      },
      "source": [
        "!pip install tweepy"
      ],
      "execution_count": 17,
      "outputs": [
        {
          "output_type": "stream",
          "text": [
            "Requirement already satisfied: tweepy in /usr/local/lib/python3.7/dist-packages (3.10.0)\n",
            "Requirement already satisfied: requests[socks]>=2.11.1 in /usr/local/lib/python3.7/dist-packages (from tweepy) (2.23.0)\n",
            "Requirement already satisfied: requests-oauthlib>=0.7.0 in /usr/local/lib/python3.7/dist-packages (from tweepy) (1.3.0)\n",
            "Requirement already satisfied: six>=1.10.0 in /usr/local/lib/python3.7/dist-packages (from tweepy) (1.15.0)\n",
            "Requirement already satisfied: urllib3!=1.25.0,!=1.25.1,<1.26,>=1.21.1 in /usr/local/lib/python3.7/dist-packages (from requests[socks]>=2.11.1->tweepy) (1.24.3)\n",
            "Requirement already satisfied: certifi>=2017.4.17 in /usr/local/lib/python3.7/dist-packages (from requests[socks]>=2.11.1->tweepy) (2020.12.5)\n",
            "Requirement already satisfied: chardet<4,>=3.0.2 in /usr/local/lib/python3.7/dist-packages (from requests[socks]>=2.11.1->tweepy) (3.0.4)\n",
            "Requirement already satisfied: idna<3,>=2.5 in /usr/local/lib/python3.7/dist-packages (from requests[socks]>=2.11.1->tweepy) (2.10)\n",
            "Requirement already satisfied: PySocks!=1.5.7,>=1.5.6; extra == \"socks\" in /usr/local/lib/python3.7/dist-packages (from requests[socks]>=2.11.1->tweepy) (1.7.1)\n",
            "Requirement already satisfied: oauthlib>=3.0.0 in /usr/local/lib/python3.7/dist-packages (from requests-oauthlib>=0.7.0->tweepy) (3.1.0)\n"
          ],
          "name": "stdout"
        }
      ]
    },
    {
      "cell_type": "code",
      "metadata": {
        "colab": {
          "base_uri": "https://localhost:8080/"
        },
        "id": "YIM0D6ytySj4",
        "outputId": "3965597a-d5f8-4416-ec48-99eeed49b0e7"
      },
      "source": [
        "!pip install unidecode"
      ],
      "execution_count": 2,
      "outputs": [
        {
          "output_type": "stream",
          "text": [
            "Collecting unidecode\n",
            "\u001b[?25l  Downloading https://files.pythonhosted.org/packages/9e/25/723487ca2a52ebcee88a34d7d1f5a4b80b793f179ee0f62d5371938dfa01/Unidecode-1.2.0-py2.py3-none-any.whl (241kB)\n",
            "\r\u001b[K     |█▍                              | 10kB 12.2MB/s eta 0:00:01\r\u001b[K     |██▊                             | 20kB 17.8MB/s eta 0:00:01\r\u001b[K     |████                            | 30kB 22.4MB/s eta 0:00:01\r\u001b[K     |█████▍                          | 40kB 23.0MB/s eta 0:00:01\r\u001b[K     |██████▉                         | 51kB 22.1MB/s eta 0:00:01\r\u001b[K     |████████▏                       | 61kB 21.3MB/s eta 0:00:01\r\u001b[K     |█████████▌                      | 71kB 19.7MB/s eta 0:00:01\r\u001b[K     |██████████▉                     | 81kB 18.0MB/s eta 0:00:01\r\u001b[K     |████████████▏                   | 92kB 17.2MB/s eta 0:00:01\r\u001b[K     |█████████████▋                  | 102kB 17.5MB/s eta 0:00:01\r\u001b[K     |███████████████                 | 112kB 17.5MB/s eta 0:00:01\r\u001b[K     |████████████████▎               | 122kB 17.5MB/s eta 0:00:01\r\u001b[K     |█████████████████▋              | 133kB 17.5MB/s eta 0:00:01\r\u001b[K     |███████████████████             | 143kB 17.5MB/s eta 0:00:01\r\u001b[K     |████████████████████▍           | 153kB 17.5MB/s eta 0:00:01\r\u001b[K     |█████████████████████▊          | 163kB 17.5MB/s eta 0:00:01\r\u001b[K     |███████████████████████         | 174kB 17.5MB/s eta 0:00:01\r\u001b[K     |████████████████████████▍       | 184kB 17.5MB/s eta 0:00:01\r\u001b[K     |█████████████████████████▊      | 194kB 17.5MB/s eta 0:00:01\r\u001b[K     |███████████████████████████▏    | 204kB 17.5MB/s eta 0:00:01\r\u001b[K     |████████████████████████████▌   | 215kB 17.5MB/s eta 0:00:01\r\u001b[K     |█████████████████████████████▉  | 225kB 17.5MB/s eta 0:00:01\r\u001b[K     |███████████████████████████████▏| 235kB 17.5MB/s eta 0:00:01\r\u001b[K     |████████████████████████████████| 245kB 17.5MB/s \n",
            "\u001b[?25hInstalling collected packages: unidecode\n",
            "Successfully installed unidecode-1.2.0\n"
          ],
          "name": "stdout"
        }
      ]
    },
    {
      "cell_type": "markdown",
      "metadata": {
        "id": "GkmDsKCYylG4"
      },
      "source": [
        "# **Import Important Packages :**"
      ]
    },
    {
      "cell_type": "code",
      "metadata": {
        "id": "PAHSuyPKyjKe"
      },
      "source": [
        "#Let's import dependencies :\n",
        "import tweepy\n",
        "from tweepy import OAuthHandler\n",
        "from tweepy.streaming import StreamListener\n",
        "import json\n",
        "from unidecode import unidecode\n",
        "import time\n",
        "import datetime\n",
        "from tqdm import tqdm\n",
        "import pandas as pd\n",
        "import numpy as np \n"
      ],
      "execution_count": 18,
      "outputs": []
    },
    {
      "cell_type": "markdown",
      "metadata": {
        "id": "oRrd4Q3v02RQ"
      },
      "source": [
        "# **AUTHENTICATING TO TWITTER'S API**"
      ]
    },
    {
      "cell_type": "code",
      "metadata": {
        "id": "_422jDZe05BU"
      },
      "source": [
        "consumer_key = 'I4i0Qb9LLHwCBgOGsssXEuYBe'\n",
        "consumer_secret = '1PUM68Lx4uql5dI2YovDTRwhiaVROQAGpxszHYvh5UpSbPPEFr'\n",
        "access_token = '1389652705044537349-zUveqCR6AN35Xr1BARTZWOWvAvyvPt'\n",
        "access_token_secret = 'nqY2hKSpvfXNHwrEaZlgxW7mgE7a633KCcQ43IKcaymvh'"
      ],
      "execution_count": 20,
      "outputs": []
    },
    {
      "cell_type": "markdown",
      "metadata": {
        "id": "qjmDU8TL46p7"
      },
      "source": [
        "# **CONNECT TO TWITTER API USING THE SECRET KEY AND ACCESS TOKEN**"
      ]
    },
    {
      "cell_type": "code",
      "metadata": {
        "id": "NZWWfvBR5AZO"
      },
      "source": [
        "auth = tweepy.OAuthHandler(consumer_key, consumer_secret)\n",
        "auth.set_access_token(access_token, access_token_secret)\n",
        "\n",
        "api = tweepy.API(auth)"
      ],
      "execution_count": 21,
      "outputs": []
    },
    {
      "cell_type": "markdown",
      "metadata": {
        "id": "wKGbCaey5HZ7"
      },
      "source": [
        "# **A FUNCTION THAT WILL DEFINE OUR SEARCH QUERY :**"
      ]
    },
    {
      "cell_type": "code",
      "metadata": {
        "id": "_6Hp-MPp5TaM"
      },
      "source": [
        "def tweetSearch(query, limit):\n",
        "    \"\"\"\n",
        "    This function will search a query provided in the twitter and,\n",
        "    retun a list of all tweets that have a query. \n",
        "    \"\"\"\n",
        "\n",
        "    # Create a blank variable\n",
        "    tweets = []\n",
        "\n",
        "    # Iterate through Twitter using Tweepy to find our query with our defined limit\n",
        "    for page in tweepy.Cursor(\n",
        "        api.search, q=query, count=limit, tweet_mode=\"extended\"\n",
        "    ).pages(limit):\n",
        "        for tweet in page:\n",
        "            tweets.append(tweet)\n",
        "\n",
        "    # return tweets\n",
        "    return tweets\n",
        "    "
      ],
      "execution_count": 23,
      "outputs": []
    },
    {
      "cell_type": "markdown",
      "metadata": {
        "id": "sX4RppbA_tCC"
      },
      "source": [
        "# **Function to save tweets into DataFrame :**"
      ]
    },
    {
      "cell_type": "code",
      "metadata": {
        "id": "Ew2G-1a6_2GR"
      },
      "source": [
        "def tweets_to_data_frame(tweets):\n",
        "  df=pd.DataFrame(data=[tweet.full_text.encode('utf-8') for tweet in tweets],columns=['Tweets'])\n",
        "  df[\"id\"]=np.array([tweet.id for tweet in tweets])\n",
        "  df[\"lens\"]=np.array([len(tweet.full_text) for tweet in tweets])\n",
        "  df[\"date\"]=np.array([tweet.created_at for tweet in tweets])\n",
        "  df[\"place\"]=np.array([tweet.place for tweet in tweets])\n",
        "  df[\"coordinates\"]=np.array([tweet.coordinates for tweet in tweets])\n",
        "  df['lang']=np.array([tweet.lang for tweet in tweets]) \n",
        "  df[\"source\"]=np.array([tweet.source for tweet in tweets])\n",
        "  df[\"likes\"]=np.array([tweet.favorite_count for tweet in tweets])\n",
        "  df[\"retweets\"]=np.array([tweet.retweet_count for tweet in tweets])\n",
        "\n",
        "  return df"
      ],
      "execution_count": 24,
      "outputs": []
    },
    {
      "cell_type": "markdown",
      "metadata": {
        "id": "uFFJ8FnJNq7X"
      },
      "source": [
        "# **Add twitter Hashtags related to Gender-Based Violence :**"
      ]
    },
    {
      "cell_type": "code",
      "metadata": {
        "id": "-qKzN_g4N5hs"
      },
      "source": [
        "hashtags=['#GBV','#sexism','#rape']"
      ],
      "execution_count": 25,
      "outputs": []
    },
    {
      "cell_type": "markdown",
      "metadata": {
        "id": "nQqKNGnuObSx"
      },
      "source": [
        "# **RUN BOTH FUNCTIONS TO COLLECT DATA FROM TWITTER RELATED TO THE HASHTAGS LISTED ABOVE :**"
      ]
    },
    {
      "cell_type": "code",
      "metadata": {
        "id": "fBaCY43POiIk",
        "outputId": "6e60efb3-24da-41d6-d0cd-cfc44d5adbe5",
        "colab": {
          "base_uri": "https://localhost:8080/"
        }
      },
      "source": [
        "total_tweets = 0\n",
        "\n",
        "\"\"\"\n",
        "The following for loop will collect a tweets that have the hashtags\n",
        " mentioned in the list and save the tweets into csv file\n",
        "\"\"\"\n",
        "\n",
        "for n in tqdm(hashtags):\n",
        "    # first we fetch all tweets that have specific hashtag\n",
        "    hash_tweets = tweetSearch(query=n,limit=7000)\n",
        "    total_tweets += int(len(hash_tweets))\n",
        "    \n",
        "    # second we convert our tweets into datarame\n",
        "    df = tweets_to_data_frame(hash_tweets)\n",
        "    \n",
        "    #third we save the dataframe into csv file\n",
        "    df.to_csv(r'/content/drive/MyDrive/Colab Notebooks\\tweets.csv'.format(n))"
      ],
      "execution_count": 28,
      "outputs": [
        {
          "output_type": "stream",
          "text": [
            "\n",
            "\n",
            "\n",
            "  0%|          | 0/3 [00:00<?, ?it/s]\u001b[A\u001b[A\u001b[A\n",
            "\n",
            "\n",
            " 33%|███▎      | 1/3 [00:11<00:22, 11.00s/it]\u001b[A\u001b[A\u001b[A\n",
            "\n",
            "\n",
            " 67%|██████▋   | 2/3 [00:17<00:09,  9.78s/it]\u001b[A\u001b[A\u001b[A\n",
            "\n",
            "\n",
            "100%|██████████| 3/3 [00:42<00:00, 14.09s/it]\n"
          ],
          "name": "stderr"
        }
      ]
    }
  ]
}