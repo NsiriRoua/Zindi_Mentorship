{
  "nbformat": 4,
  "nbformat_minor": 0,
  "metadata": {
    "colab": {
      "name": "Hack_for_safety",
      "provenance": [],
      "mount_file_id": "1SLN9EoCtTAMhhcfUElOTDfCitiZe2tAB",
      "authorship_tag": "ABX9TyPDSjaThu5EGNZ5WgN2zsWR",
      "include_colab_link": true
    },
    "kernelspec": {
      "name": "python3",
      "display_name": "Python 3"
    },
    "language_info": {
      "name": "python"
    }
  },
  "cells": [
    {
      "cell_type": "markdown",
      "metadata": {
        "id": "view-in-github",
        "colab_type": "text"
      },
      "source": [
        "<a href=\"https://colab.research.google.com/github/NsiriRoua/Zindi_Mentorship/blob/main/Hack_for_safety.ipynb\" target=\"_parent\"><img src=\"https://colab.research.google.com/assets/colab-badge.svg\" alt=\"Open In Colab\"/></a>"
      ]
    },
    {
      "cell_type": "code",
      "metadata": {
        "id": "WqTWnFB-dDs-"
      },
      "source": [
        " import pandas as pd\n",
        "import seaborn as sns\n",
        "\n",
        "from sklearn.model_selection import train_test_split\n",
        "from sklearn.linear_model import LogisticRegression\n",
        "from sklearn.ensemble import RandomForestClassifier\n",
        "from sklearn.svm import SVC\n",
        "from sklearn.metrics import accuracy_score,  mean_squared_error, f1_score, roc_auc_score\n",
        "import numpy as np\n",
        "from sklearn.model_selection import KFold\n",
        "from sklearn.model_selection import cross_val_score,cross_val_predict\n",
        "from sklearn.preprocessing import LabelEncoder,OneHotEncoder"
      ],
      "execution_count": null,
      "outputs": []
    },
    {
      "cell_type": "code",
      "metadata": {
        "id": "kzoqeeovi-1b"
      },
      "source": [
        "train_df = pd.read_csv(\"/content/drive/MyDrive/Colab Notebooks/Hack_for_safety/Train (4).csv\")"
      ],
      "execution_count": null,
      "outputs": []
    },
    {
      "cell_type": "code",
      "metadata": {
        "colab": {
          "base_uri": "https://localhost:8080/",
          "height": 598
        },
        "id": "PcAq8FwtjDQO",
        "outputId": "ade371a3-2882-4a79-9a35-9b6899d27244"
      },
      "source": [
        "train_df.head()"
      ],
      "execution_count": null,
      "outputs": [
        {
          "output_type": "execute_result",
          "data": {
            "text/html": [
              "<div>\n",
              "<style scoped>\n",
              "    .dataframe tbody tr th:only-of-type {\n",
              "        vertical-align: middle;\n",
              "    }\n",
              "\n",
              "    .dataframe tbody tr th {\n",
              "        vertical-align: top;\n",
              "    }\n",
              "\n",
              "    .dataframe thead th {\n",
              "        text-align: right;\n",
              "    }\n",
              "</style>\n",
              "<table border=\"1\" class=\"dataframe\">\n",
              "  <thead>\n",
              "    <tr style=\"text-align: right;\">\n",
              "      <th></th>\n",
              "      <th>ID</th>\n",
              "      <th>gender</th>\n",
              "      <th>age</th>\n",
              "      <th>race</th>\n",
              "      <th>dwelling</th>\n",
              "      <th>dwelling_type</th>\n",
              "      <th>province_code</th>\n",
              "      <th>metro_code</th>\n",
              "      <th>psu</th>\n",
              "      <th>nationality</th>\n",
              "      <th>RTH</th>\n",
              "      <th>marital_st</th>\n",
              "      <th>Lang_inside</th>\n",
              "      <th>Lang_outside</th>\n",
              "      <th>Education</th>\n",
              "      <th>lw_work</th>\n",
              "      <th>lw_business</th>\n",
              "      <th>help_on_household</th>\n",
              "      <th>job_or_business</th>\n",
              "      <th>nature_of_work</th>\n",
              "      <th>target</th>\n",
              "    </tr>\n",
              "  </thead>\n",
              "  <tbody>\n",
              "    <tr>\n",
              "      <th>0</th>\n",
              "      <td>ID_00008683</td>\n",
              "      <td>Female</td>\n",
              "      <td>20</td>\n",
              "      <td>Black African</td>\n",
              "      <td>Dwelling/house or brick/concrete block structu...</td>\n",
              "      <td>Formal</td>\n",
              "      <td>North West</td>\n",
              "      <td>NW - Non Metro</td>\n",
              "      <td>66710095</td>\n",
              "      <td>South Africa</td>\n",
              "      <td>Son/daughter/stepchild/adopted child of person 01</td>\n",
              "      <td>Single and have never been married/never lived...</td>\n",
              "      <td>Xitsonga</td>\n",
              "      <td>Setswana</td>\n",
              "      <td>Grade 11/Standard 9/Form 4</td>\n",
              "      <td>No</td>\n",
              "      <td>No</td>\n",
              "      <td>No</td>\n",
              "      <td>No</td>\n",
              "      <td>Not applicable</td>\n",
              "      <td>0</td>\n",
              "    </tr>\n",
              "    <tr>\n",
              "      <th>1</th>\n",
              "      <td>ID_00061163</td>\n",
              "      <td>Female</td>\n",
              "      <td>42</td>\n",
              "      <td>Black African</td>\n",
              "      <td>Dwelling/house or brick/concrete block structu...</td>\n",
              "      <td>Formal</td>\n",
              "      <td>Limpopo</td>\n",
              "      <td>LP - Non Metro</td>\n",
              "      <td>98510279</td>\n",
              "      <td>South Africa</td>\n",
              "      <td>Other relative (e.g. in-laws or aunt/uncle) of...</td>\n",
              "      <td>Living together like husband and wife</td>\n",
              "      <td>Sepedi</td>\n",
              "      <td>Sepedi</td>\n",
              "      <td>Grade 12/Standard 10/Form 5/Matric (No Exemption)</td>\n",
              "      <td>Yes</td>\n",
              "      <td>No</td>\n",
              "      <td>No</td>\n",
              "      <td>Not applicable</td>\n",
              "      <td>Permanent</td>\n",
              "      <td>0</td>\n",
              "    </tr>\n",
              "    <tr>\n",
              "      <th>2</th>\n",
              "      <td>ID_00071403</td>\n",
              "      <td>Female</td>\n",
              "      <td>86</td>\n",
              "      <td>Black African</td>\n",
              "      <td>Dwelling/house or brick/concrete block structu...</td>\n",
              "      <td>Formal</td>\n",
              "      <td>Eastern Cape</td>\n",
              "      <td>EC - Non Metro</td>\n",
              "      <td>29210321</td>\n",
              "      <td>South Africa</td>\n",
              "      <td>Father/mother/stepfather/stepmother of person 01</td>\n",
              "      <td>Widowed</td>\n",
              "      <td>IsiXhosa</td>\n",
              "      <td>IsiXhosa</td>\n",
              "      <td>Unspecified</td>\n",
              "      <td>No</td>\n",
              "      <td>No</td>\n",
              "      <td>No</td>\n",
              "      <td>No</td>\n",
              "      <td>Not applicable</td>\n",
              "      <td>0</td>\n",
              "    </tr>\n",
              "    <tr>\n",
              "      <th>3</th>\n",
              "      <td>ID_00077803</td>\n",
              "      <td>Female</td>\n",
              "      <td>20</td>\n",
              "      <td>Black African</td>\n",
              "      <td>Town house (semi-detached house in complex)</td>\n",
              "      <td>Formal</td>\n",
              "      <td>KwaZulu-Natal</td>\n",
              "      <td>KZN - eThekwini</td>\n",
              "      <td>59913860</td>\n",
              "      <td>South Africa</td>\n",
              "      <td>Son/daughter/stepchild/adopted child of person 01</td>\n",
              "      <td>Single and have never been married/never lived...</td>\n",
              "      <td>IsiZulu</td>\n",
              "      <td>IsiZulu</td>\n",
              "      <td>Grade 12/Standard 10/Form 5/Matric (No Exemption)</td>\n",
              "      <td>No</td>\n",
              "      <td>No</td>\n",
              "      <td>No</td>\n",
              "      <td>No</td>\n",
              "      <td>Not applicable</td>\n",
              "      <td>0</td>\n",
              "    </tr>\n",
              "    <tr>\n",
              "      <th>4</th>\n",
              "      <td>ID_00086763</td>\n",
              "      <td>Female</td>\n",
              "      <td>26</td>\n",
              "      <td>Black African</td>\n",
              "      <td>Town house (semi-detached house in complex)</td>\n",
              "      <td>Formal</td>\n",
              "      <td>Gauteng</td>\n",
              "      <td>GP - City of Johannesburg</td>\n",
              "      <td>79813828</td>\n",
              "      <td>South Africa</td>\n",
              "      <td>Son/daughter/stepchild/adopted child of person 01</td>\n",
              "      <td>Single and have never been married/never lived...</td>\n",
              "      <td>Setswana</td>\n",
              "      <td>English</td>\n",
              "      <td>Grade 12/Standard 10/Form 5/Matric (No Exemption)</td>\n",
              "      <td>No</td>\n",
              "      <td>No</td>\n",
              "      <td>No</td>\n",
              "      <td>No</td>\n",
              "      <td>Not applicable</td>\n",
              "      <td>0</td>\n",
              "    </tr>\n",
              "  </tbody>\n",
              "</table>\n",
              "</div>"
            ],
            "text/plain": [
              "            ID  gender  age  ... job_or_business  nature_of_work target\n",
              "0  ID_00008683  Female   20  ...              No  Not applicable      0\n",
              "1  ID_00061163  Female   42  ...  Not applicable       Permanent      0\n",
              "2  ID_00071403  Female   86  ...              No  Not applicable      0\n",
              "3  ID_00077803  Female   20  ...              No  Not applicable      0\n",
              "4  ID_00086763  Female   26  ...              No  Not applicable      0\n",
              "\n",
              "[5 rows x 21 columns]"
            ]
          },
          "metadata": {
            "tags": []
          },
          "execution_count": 76
        }
      ]
    },
    {
      "cell_type": "code",
      "metadata": {
        "colab": {
          "base_uri": "https://localhost:8080/"
        },
        "id": "LHe58SLbjGax",
        "outputId": "5ed27708-a52d-4e7e-8f41-3dfa5f5c8fe6"
      },
      "source": [
        "train_df.columns"
      ],
      "execution_count": null,
      "outputs": [
        {
          "output_type": "execute_result",
          "data": {
            "text/plain": [
              "Index(['ID', 'gender', 'age', 'race', 'dwelling', 'dwelling_type',\n",
              "       'province_code', 'metro_code', 'psu', 'nationality', 'RTH',\n",
              "       'marital_st', 'Lang_inside', 'Lang_outside', 'Education', 'lw_work',\n",
              "       'lw_business', 'help_on_household', 'job_or_business', 'nature_of_work',\n",
              "       'target'],\n",
              "      dtype='object')"
            ]
          },
          "metadata": {
            "tags": []
          },
          "execution_count": 78
        }
      ]
    },
    {
      "cell_type": "code",
      "metadata": {
        "colab": {
          "base_uri": "https://localhost:8080/",
          "height": 354
        },
        "id": "NbRCewGjjJrY",
        "outputId": "e829d983-12f8-46f8-f3fb-af18d409b842"
      },
      "source": [
        "sns.countplot(train_df[\"target\"])\n"
      ],
      "execution_count": null,
      "outputs": [
        {
          "output_type": "stream",
          "text": [
            "/usr/local/lib/python3.7/dist-packages/seaborn/_decorators.py:43: FutureWarning: Pass the following variable as a keyword arg: x. From version 0.12, the only valid positional argument will be `data`, and passing other arguments without an explicit keyword will result in an error or misinterpretation.\n",
            "  FutureWarning\n"
          ],
          "name": "stderr"
        },
        {
          "output_type": "execute_result",
          "data": {
            "text/plain": [
              "<matplotlib.axes._subplots.AxesSubplot at 0x7f7fa80f7910>"
            ]
          },
          "metadata": {
            "tags": []
          },
          "execution_count": 79
        },
        {
          "output_type": "display_data",
          "data": {
            "image/png": "[encoded data removed]",
            "text/plain": [
              "<Figure size 432x288 with 1 Axes>"
            ]
          },
          "metadata": {
            "tags": [],
            "needs_background": "light"
          }
        }
      ]
    },
    {
      "cell_type": "code",
      "metadata": {
        "colab": {
          "base_uri": "https://localhost:8080/",
          "height": 287
        },
        "id": "SpjCDTSujMaq",
        "outputId": "499a6fd5-b012-408e-8fe7-52a952314529"
      },
      "source": [
        "sns.heatmap(train_df.corr())"
      ],
      "execution_count": null,
      "outputs": [
        {
          "output_type": "execute_result",
          "data": {
            "text/plain": [
              "<matplotlib.axes._subplots.AxesSubplot at 0x7f7fa80a2bd0>"
            ]
          },
          "metadata": {
            "tags": []
          },
          "execution_count": 80
        },
        {
          "output_type": "display_data",
          "data": {
            "image/png": "[encoded data removed]",
            "text/plain": [
              "<Figure size 432x288 with 2 Axes>"
            ]
          },
          "metadata": {
            "tags": [],
            "needs_background": "light"
          }
        }
      ]
    },
    {
      "cell_type": "code",
      "metadata": {
        "id": "BGlNZyDrjThr"
      },
      "source": [
        "label=LabelEncoder()\n",
        "train_df['gender'] = label.fit_transform(train_df['gender'])\n",
        "train_df['race'] = label.fit_transform(train_df['race'])\n",
        "train_df['dwelling'] = label.fit_transform(train_df['dwelling'])\n",
        "train_df['dwelling_type'] = label.fit_transform(train_df['dwelling_type'])\n",
        "train_df['province_code'] = label.fit_transform(train_df['province_code'])\n",
        "train_df['metro_code'] = label.fit_transform(train_df['metro_code'])\n",
        "train_df['nationality'] = label.fit_transform(train_df['nationality'])\n",
        "train_df['RTH'] = label.fit_transform(train_df['RTH'])\n",
        "train_df['marital_st'] = label.fit_transform(train_df['marital_st'])\n",
        "train_df['Lang_inside'] = label.fit_transform(train_df['Lang_inside'])\n",
        "train_df['Lang_outside'] = label.fit_transform(train_df['Lang_outside'])\n",
        "train_df['Education'] = label.fit_transform(train_df['Education'])\n",
        "train_df['lw_work'] = label.fit_transform(train_df['lw_work'])\n",
        "train_df['lw_business'] = label.fit_transform(train_df['lw_business'])\n",
        "train_df['help_on_household'] = label.fit_transform(train_df['help_on_household'])\n",
        "train_df['job_or_business'] = label.fit_transform(train_df['job_or_business'])\n",
        "train_df['nature_of_work'] = label.fit_transform(train_df['nature_of_work'])\n",
        "\n"
      ],
      "execution_count": null,
      "outputs": []
    },
    {
      "cell_type": "code",
      "metadata": {
        "id": "ZYfq6ITDFGxM"
      },
      "source": [
        "X = train_df.drop([\"target\", \"ID\"], axis=1) # feature columns\n",
        "y = train_df[\"target\"] # the label/target column"
      ],
      "execution_count": null,
      "outputs": []
    },
    {
      "cell_type": "code",
      "metadata": {
        "colab": {
          "base_uri": "https://localhost:8080/"
        },
        "id": "GzZSauHRFRdN",
        "outputId": "3aa35ffb-5c33-455e-fcd6-78879bda0c0e"
      },
      "source": [
        "cv=KFold(n_splits=5,shuffle=True,random_state=1)\n",
        "#Create the model :\n",
        "s=SVC()\n",
        "scores=cross_val_score(cls,X,y,cv=cv,scoring='accuracy')\n",
        "print(scores)"
      ],
      "execution_count": null,
      "outputs": [
        {
          "output_type": "stream",
          "text": [
            "[0.9250646  0.91855204 0.93018746 0.90239173 0.91790562]\n"
          ],
          "name": "stdout"
        }
      ]
    },
    {
      "cell_type": "code",
      "metadata": {
        "id": "Xb5eJpybmt4r"
      },
      "source": [
        "\n",
        "#Evaluate the model :\n",
        "y_pred=cross_val_predict(cls,X,y,cv=cv)\n",
        "final_model=cls.fit(X,y)"
      ],
      "execution_count": null,
      "outputs": []
    },
    {
      "cell_type": "code",
      "metadata": {
        "id": "QMKMxfbaC3ov"
      },
      "source": [
        ""
      ],
      "execution_count": null,
      "outputs": []
    },
    {
      "cell_type": "code",
      "metadata": {
        "colab": {
          "base_uri": "https://localhost:8080/"
        },
        "id": "Aui2lU3o74v5",
        "outputId": "8ed81897-5050-4283-984d-dd7e5d8db418"
      },
      "source": [
        "# export to \n",
        "import sklearn.externals\n",
        "import joblib\n",
        "\n",
        "joblib.dump(final_model, 'model.joblib')"
      ],
      "execution_count": null,
      "outputs": [
        {
          "output_type": "execute_result",
          "data": {
            "text/plain": [
              "['model.joblib']"
            ]
          },
          "metadata": {
            "tags": []
          },
          "execution_count": 111
        }
      ]
    },
    {
      "cell_type": "code",
      "metadata": {
        "colab": {
          "base_uri": "https://localhost:8080/",
          "height": 598
        },
        "id": "0ARIvWKo8DTb",
        "outputId": "2109a028-6ac6-49fd-c563-0173fde8c491"
      },
      "source": [
        "test_df=pd.read_csv('/content/drive/MyDrive/Colab Notebooks/Hack_for_safety/Test (3).csv')\n",
        "#Preprocessing \n",
        "test_df.head()"
      ],
      "execution_count": null,
      "outputs": [
        {
          "output_type": "execute_result",
          "data": {
            "text/html": [
              "<div>\n",
              "<style scoped>\n",
              "    .dataframe tbody tr th:only-of-type {\n",
              "        vertical-align: middle;\n",
              "    }\n",
              "\n",
              "    .dataframe tbody tr th {\n",
              "        vertical-align: top;\n",
              "    }\n",
              "\n",
              "    .dataframe thead th {\n",
              "        text-align: right;\n",
              "    }\n",
              "</style>\n",
              "<table border=\"1\" class=\"dataframe\">\n",
              "  <thead>\n",
              "    <tr style=\"text-align: right;\">\n",
              "      <th></th>\n",
              "      <th>ID</th>\n",
              "      <th>gender</th>\n",
              "      <th>age</th>\n",
              "      <th>race</th>\n",
              "      <th>dwelling</th>\n",
              "      <th>dwelling_type</th>\n",
              "      <th>province_code</th>\n",
              "      <th>metro_code</th>\n",
              "      <th>psu</th>\n",
              "      <th>nationality</th>\n",
              "      <th>RTH</th>\n",
              "      <th>marital_st</th>\n",
              "      <th>Lang_inside</th>\n",
              "      <th>Lang_outside</th>\n",
              "      <th>Education</th>\n",
              "      <th>lw_work</th>\n",
              "      <th>lw_business</th>\n",
              "      <th>help_on_household</th>\n",
              "      <th>job_or_business</th>\n",
              "      <th>nature_of_work</th>\n",
              "    </tr>\n",
              "  </thead>\n",
              "  <tbody>\n",
              "    <tr>\n",
              "      <th>0</th>\n",
              "      <td>ID_00241643</td>\n",
              "      <td>Female</td>\n",
              "      <td>23</td>\n",
              "      <td>Coloured</td>\n",
              "      <td>Dwelling/house or brick/concrete block structu...</td>\n",
              "      <td>Formal</td>\n",
              "      <td>Northern Cape</td>\n",
              "      <td>NC - Non Metro</td>\n",
              "      <td>36410104</td>\n",
              "      <td>South Africa</td>\n",
              "      <td>Head/acting head</td>\n",
              "      <td>Single and have never been married/never lived...</td>\n",
              "      <td>Afrikaans</td>\n",
              "      <td>Afrikaans</td>\n",
              "      <td>Grade 10/Standard 8/Form 3</td>\n",
              "      <td>Yes</td>\n",
              "      <td>No</td>\n",
              "      <td>No</td>\n",
              "      <td>Not applicable</td>\n",
              "      <td>Permanent</td>\n",
              "    </tr>\n",
              "    <tr>\n",
              "      <th>1</th>\n",
              "      <td>ID_00312043</td>\n",
              "      <td>Female</td>\n",
              "      <td>64</td>\n",
              "      <td>Black African</td>\n",
              "      <td>Dwelling/house or brick/concrete block structu...</td>\n",
              "      <td>Formal</td>\n",
              "      <td>Limpopo</td>\n",
              "      <td>LP - Non Metro</td>\n",
              "      <td>97410477</td>\n",
              "      <td>South Africa</td>\n",
              "      <td>Head/acting head</td>\n",
              "      <td>Widowed</td>\n",
              "      <td>Afrikaans</td>\n",
              "      <td>Afrikaans</td>\n",
              "      <td>Grade 12/Standard 10/Form 5/Matric (No Exemption)</td>\n",
              "      <td>No</td>\n",
              "      <td>No</td>\n",
              "      <td>No</td>\n",
              "      <td>No</td>\n",
              "      <td>Not applicable</td>\n",
              "    </tr>\n",
              "    <tr>\n",
              "      <th>2</th>\n",
              "      <td>ID_00345323</td>\n",
              "      <td>Female</td>\n",
              "      <td>18</td>\n",
              "      <td>Black African</td>\n",
              "      <td>Unspecified</td>\n",
              "      <td>Unspecified</td>\n",
              "      <td>Eastern Cape</td>\n",
              "      <td>EC - Buffalo City</td>\n",
              "      <td>26011572</td>\n",
              "      <td>South Africa</td>\n",
              "      <td>Son/daughter/stepchild/adopted child of person 01</td>\n",
              "      <td>Single and have never been married/never lived...</td>\n",
              "      <td>IsiXhosa</td>\n",
              "      <td>IsiXhosa</td>\n",
              "      <td>Grade 11/Standard 9/Form 4</td>\n",
              "      <td>No</td>\n",
              "      <td>No</td>\n",
              "      <td>No</td>\n",
              "      <td>No</td>\n",
              "      <td>Not applicable</td>\n",
              "    </tr>\n",
              "    <tr>\n",
              "      <th>3</th>\n",
              "      <td>ID_00369643</td>\n",
              "      <td>Female</td>\n",
              "      <td>19</td>\n",
              "      <td>Black African</td>\n",
              "      <td>Dwelling/house or brick/concrete block structu...</td>\n",
              "      <td>Formal</td>\n",
              "      <td>Mpumalanga</td>\n",
              "      <td>MP - Non Metro</td>\n",
              "      <td>87710674</td>\n",
              "      <td>South Africa</td>\n",
              "      <td>Son/daughter/stepchild/adopted child of person 01</td>\n",
              "      <td>Single and have never been married/never lived...</td>\n",
              "      <td>Xitsonga</td>\n",
              "      <td>Sepedi</td>\n",
              "      <td>Grade 12/Standard 10/Form 5/Matric (No Exemption)</td>\n",
              "      <td>No</td>\n",
              "      <td>No</td>\n",
              "      <td>No</td>\n",
              "      <td>No</td>\n",
              "      <td>Not applicable</td>\n",
              "    </tr>\n",
              "    <tr>\n",
              "      <th>4</th>\n",
              "      <td>ID_00381163</td>\n",
              "      <td>Female</td>\n",
              "      <td>24</td>\n",
              "      <td>Black African</td>\n",
              "      <td>Dwelling/house or brick/concrete block structu...</td>\n",
              "      <td>Formal</td>\n",
              "      <td>Mpumalanga</td>\n",
              "      <td>MP - Non Metro</td>\n",
              "      <td>87411106</td>\n",
              "      <td>South Africa</td>\n",
              "      <td>Head/acting head</td>\n",
              "      <td>Single and have never been married/never lived...</td>\n",
              "      <td>SiSwati</td>\n",
              "      <td>SiSwati</td>\n",
              "      <td>Grade 11/Standard 9/Form 4</td>\n",
              "      <td>No</td>\n",
              "      <td>No</td>\n",
              "      <td>No</td>\n",
              "      <td>No</td>\n",
              "      <td>Not applicable</td>\n",
              "    </tr>\n",
              "  </tbody>\n",
              "</table>\n",
              "</div>"
            ],
            "text/plain": [
              "            ID  gender  age  ... help_on_household job_or_business  nature_of_work\n",
              "0  ID_00241643  Female   23  ...                No  Not applicable       Permanent\n",
              "1  ID_00312043  Female   64  ...                No              No  Not applicable\n",
              "2  ID_00345323  Female   18  ...                No              No  Not applicable\n",
              "3  ID_00369643  Female   19  ...                No              No  Not applicable\n",
              "4  ID_00381163  Female   24  ...                No              No  Not applicable\n",
              "\n",
              "[5 rows x 20 columns]"
            ]
          },
          "metadata": {
            "tags": []
          },
          "execution_count": 122
        }
      ]
    },
    {
      "cell_type": "code",
      "metadata": {
        "id": "JHoNnqza8Zu9"
      },
      "source": [
        "# preprocessing\n",
        "test_df['gender'] = label.fit_transform(test_df['gender'])\n",
        "test_df['race'] = label.fit_transform(test_df['race'])\n",
        "\n",
        "# preprocess all the othe columns as well\n",
        "test_df['dwelling'] = label.fit_transform(test_df['dwelling'])\n",
        "test_df['dwelling_type'] = label.fit_transform(test_df['dwelling_type'])\n",
        "test_df['province_code'] = label.fit_transform(test_df['province_code'])\n",
        "test_df['metro_code'] = label.fit_transform(test_df['metro_code'])\n",
        "test_df['nationality'] = label.fit_transform(test_df['nationality'])\n",
        "test_df['RTH'] = label.fit_transform(test_df['RTH'])\n",
        "test_df['marital_st'] = label.fit_transform(test_df['marital_st'])\n",
        "test_df['Lang_inside'] = label.fit_transform(test_df['Lang_inside'])\n",
        "test_df['Lang_outside'] = label.fit_transform(test_df['Lang_outside'])\n",
        "test_df['Education'] = label.fit_transform(test_df['Education'])\n",
        "test_df['lw_work'] = label.fit_transform(test_df['lw_work'])\n",
        "test_df['lw_business'] = label.fit_transform(test_df['lw_business'])\n",
        "test_df['help_on_household'] = label.fit_transform(test_df['help_on_household'])\n",
        "test_df['job_or_business'] = label.fit_transform(test_df['job_or_business'])\n",
        "test_df['nature_of_work'] = label.fit_transform(test_df['nature_of_work'])"
      ],
      "execution_count": null,
      "outputs": []
    },
    {
      "cell_type": "code",
      "metadata": {
        "id": "ZMQROWAK8qb0"
      },
      "source": [
        "test_ = test_df.drop([\"ID\"], axis=1)\n",
        "test_predictions = final_model.predict(test_)\n",
        "submission_df = pd.DataFrame()\n",
        "submission_df[\"ID\"] = test_df[\"ID\"]\n",
        "submission_df[\"target\"] = test_predictions\n",
        "# file\n",
        "submission_df.to_csv(\"submission.csv\", index=False)\n"
      ],
      "execution_count": null,
      "outputs": []
    },
    {
      "cell_type": "code",
      "metadata": {
        "colab": {
          "base_uri": "https://localhost:8080/"
        },
        "id": "HBzgKjbAxHar",
        "outputId": "86db9597-6c5c-447d-c045-cd7869b1ac84"
      },
      "source": [
        "score"
      ],
      "execution_count": null,
      "outputs": [
        {
          "output_type": "execute_result",
          "data": {
            "text/plain": [
              "array([0.92312661, 0.92113769, 0.93148028, 0.90239173, 0.91855204])"
            ]
          },
          "metadata": {
            "tags": []
          },
          "execution_count": 115
        }
      ]
    },
    {
      "cell_type": "code",
      "metadata": {
        "id": "GhJwHTAj_01R"
      },
      "source": [
        ""
      ],
      "execution_count": null,
      "outputs": []
    }
  ]
}